{
 "cells": [
  {
   "cell_type": "markdown",
   "metadata": {},
   "source": [
    "# Model Name"
   ]
  },
  {
   "cell_type": "markdown",
   "metadata": {},
   "source": [
    "---"
   ]
  },
  {
   "cell_type": "markdown",
   "metadata": {},
   "source": [
    "## References"
   ]
  },
  {
   "cell_type": "markdown",
   "metadata": {},
   "source": [
    "[Geeks for Geeks - K means Clustering - Introduction](https://www.geeksforgeeks.org/k-means-clustering-introduction/)\n",
    "\n",
    "[Geeks for Geeks - K-means++ Algorithm](https://www.geeksforgeeks.org/ml-k-means-algorithm/)\n",
    "\n",
    "[Scikit Learn - KMeans](https://www.geeksforgeeks.org/k-means-clustering-introduction/)"
   ]
  },
  {
   "cell_type": "markdown",
   "metadata": {},
   "source": [
    "---"
   ]
  },
  {
   "cell_type": "markdown",
   "metadata": {},
   "source": [
    "## Notes"
   ]
  },
  {
   "cell_type": "markdown",
   "metadata": {},
   "source": [
    "#### Characteristics\n",
    "- Unsupervised Learning\n",
    "- Clustering task\n",
    "- Group similar data points into clusters\n",
    "- K means number of clusters\n",
    "- Use centroid as a center of cluster\n",
    "    - assign data points a cluster with closest centroid\n",
    "    - update centroid with the average of data points\n",
    "- use K-means++ to get better initial centroids"
   ]
  },
  {
   "cell_type": "markdown",
   "metadata": {},
   "source": [
    "#### Input & Output\n",
    "- **Input**: feature matrix $X$ with shape (n_samples, n_features)\n",
    "- **Output**: lable vector $y$ with shape (n_samples,)"
   ]
  },
  {
   "cell_type": "markdown",
   "metadata": {},
   "source": [
    "#### Parameters\n",
    "- $k$ centroids"
   ]
  },
  {
   "cell_type": "markdown",
   "metadata": {},
   "source": [
    "#### Hyperparameters\n",
    "\n",
    "- $k$, number of clusters\n",
    "- maximum iterations\n",
    "- tolerance, threshold of change in centroids for early stopping\n",
    "- initialization method for centroid"
   ]
  },
  {
   "cell_type": "markdown",
   "metadata": {},
   "source": [
    "#### Runtime Complexity\n",
    "- **Training**: $O(i\\cdot n \\cdot k \\cdot d)$\n",
    "    - for each iteration, \n",
    "        - for each data point, we calculate distance from each of $k$ centroids, which takes $O(d)$\n",
    "        - for each centroid, we update it with average of data points, which takes $O(n\\cdot d)$\n",
    "- **Inference**: $O(k \\cdot d)$\n",
    "    - we calculate distance from the data point to $k$ centroids\n",
    "\n",
    "where\n",
    "- $i$: number of iterations\n",
    "- $n$: number of samples\n",
    "- $k$: number of clusters\n",
    "- $d$: number of features"
   ]
  },
  {
   "cell_type": "markdown",
   "metadata": {},
   "source": [
    "#### Pros & Cons\n",
    "- **Pros**: \n",
    "    - time complexity is linear in $n$, works fast with large datasets\n",
    "    - centroids and results are interpretable\n",
    "    - structure is simple and does not require complex mathematics\n",
    "    - performs well with spherical clusters\n",
    "* **Cons**: \n",
    "    - choosing optimal $k$ is not easy\n",
    "    - performance decrease with non-spherical or unequal size clusters\n",
    "    - sensitive to initial centroids\n",
    "    - struggles with outliers\n",
    "    - not guaranteed to find optimal solution"
   ]
  },
  {
   "cell_type": "markdown",
   "metadata": {},
   "source": [
    "---"
   ]
  },
  {
   "cell_type": "markdown",
   "metadata": {},
   "source": [
    "## Mathematics"
   ]
  },
  {
   "cell_type": "markdown",
   "metadata": {},
   "source": [
    "#### Euclidean Distance\n",
    "\n",
    "$$\\text{distance}(x,\\mu)=\\sqrt{\\sum_{i=1}^{d}(x_i-\\mu_i)^2}$$\n",
    "\n",
    "where\n",
    "- $x$: data point\n",
    "- $\\mu$: centroid\n",
    "- $d$: number of features"
   ]
  },
  {
   "cell_type": "markdown",
   "metadata": {},
   "source": [
    "#### Mean\n",
    "\n",
    "$$\\mu_j=\\frac{1}{|C_j|}\\sum_{x\\in C_j}x$$\n",
    "\n",
    "where\n",
    "- $\\mu_j$: new centroid of $j$-th cluster\n",
    "- $C_j$: set of data points in $j$-th cluster"
   ]
  },
  {
   "cell_type": "markdown",
   "metadata": {},
   "source": [
    "#### K-Means++ Initialization\n",
    "\n",
    "1. pick the first centroid uniformly at random from the dataset; $\\mu_1=x_i\\in X$\n",
    "2. for every data point, compute distance squared to the closest centroid; $D(x_i)^2 = \\min_j\\|x_i-\\mu_j\\|^2$\n",
    "3. pick one of the data point as a next centroid with probability $P(x_i)=\\frac{D(x_i)^2}{\\sum_{x\\in X}D(x)^2}$\n",
    "4. repeat 2-3 until we get $k$ centroids\n",
    "\n",
    "By choosing centroids with higher probability if it is far from existing ones, we can get well separated initial centroid that could possibly reduce overlapping clusters and slow convergence."
   ]
  },
  {
   "cell_type": "markdown",
   "metadata": {},
   "source": [
    "---"
   ]
  },
  {
   "cell_type": "markdown",
   "metadata": {},
   "source": [
    "## Comments"
   ]
  }
 ],
 "metadata": {
  "language_info": {
   "name": "python"
  }
 },
 "nbformat": 4,
 "nbformat_minor": 2
}

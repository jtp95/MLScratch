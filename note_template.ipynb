{
 "cells": [
  {
   "cell_type": "markdown",
   "metadata": {},
   "source": [
    "# Model Name\n",
    "---\n",
    "## References\n",
    "---\n",
    "## Notes\n",
    "\n",
    "#### Characteristics\n",
    "- Supervised / Unsupervised / Reinforcement\n",
    "- Linear / Nonlinear\n",
    "- ...\n",
    "\n",
    "#### Assumptions\n",
    "- What assumptions does this model make?\n",
    "\n",
    "#### Input & Output\n",
    "- **Input**: \n",
    "- **Output**: \n",
    "\n",
    "#### Parameters\n",
    "- What paramters are trained?\n",
    "- What hyperparameters can be tuned?\n",
    "\n",
    "#### Runtime Complexity\n",
    "- **Training**: \n",
    "- **Inference**: \n",
    "\n",
    "#### Pros & Cons\n",
    "- **Pros**: \n",
    "- **Cons**: \n",
    "\n",
    "#### Applications\n",
    "- Real-world examples of this model.\n",
    "\n",
    "---\n",
    "\n",
    "## Mathematics\n",
    "\n",
    "#### Model Equations\n",
    "- Prediction equation\n",
    "\n",
    "#### Loss Function\n",
    "- What loss function does it minimize?\n",
    "\n",
    "#### Gradients\n",
    "- Gradient formulas for optimization.\n",
    "\n",
    "#### Updates\n",
    "- How are paramteres updated?\n",
    "\n",
    "---\n",
    "## Comments"
   ]
  }
 ],
 "metadata": {
  "language_info": {
   "name": "python"
  }
 },
 "nbformat": 4,
 "nbformat_minor": 2
}

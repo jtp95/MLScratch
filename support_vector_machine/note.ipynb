{
 "cells": [
  {
   "cell_type": "markdown",
   "metadata": {},
   "source": [
    "# Support Vector Machine"
   ]
  },
  {
   "cell_type": "markdown",
   "metadata": {},
   "source": [
    "---"
   ]
  },
  {
   "cell_type": "markdown",
   "metadata": {},
   "source": [
    "## References"
   ]
  },
  {
   "cell_type": "markdown",
   "metadata": {},
   "source": [
    "[Scikit Learn - Support Vector Machines](https://scikit-learn.org/stable/modules/svm.html)\n",
    "\n",
    "[IBM - What are support vector machines (SVMs)?](https://www.ibm.com/think/topics/support-vector-machine)\n",
    "\n",
    "[Medium - Math behind SVM (Support Vector Machine)](https://ankitnitjsr13.medium.com/math-behind-support-vector-machine-svm-5e7376d0ee4d)\n",
    "\n",
    "[Spot Intelligence - Support Vector Machines (SVM) In Machine Learning Made Simple & How To Tutorial](https://spotintelligence.com/2024/05/06/support-vector-machines-svm/)"
   ]
  },
  {
   "cell_type": "markdown",
   "metadata": {},
   "source": [
    "---"
   ]
  },
  {
   "cell_type": "markdown",
   "metadata": {},
   "source": [
    "## Notes"
   ]
  },
  {
   "cell_type": "markdown",
   "metadata": {},
   "source": [
    "#### Characteristics\n",
    "- Supervised learning\n",
    "- Classification\n",
    "- finds best (maximum margin) hyperplane that separates classes\n",
    "- margin is the hyperplane and nearest data points (support vectors)\n",
    "- larger margin means better generalization usually"
   ]
  },
  {
   "cell_type": "markdown",
   "metadata": {},
   "source": [
    "#### Input & Output\n",
    "- **Input**: feature matrix $X$ with shape (n_samples, n_features)\n",
    "- **Output**: lable vector $y$ with shape (n_samples,)"
   ]
  },
  {
   "cell_type": "markdown",
   "metadata": {},
   "source": [
    "#### Parameters\n",
    "- $\\vec{w}$: weight vector of hyperplane\n",
    "- $b$: bias term of hyperplane"
   ]
  },
  {
   "cell_type": "markdown",
   "metadata": {},
   "source": [
    "#### Hyperparameters\n",
    "- $C$: regularization rate\n",
    "- $\\alpha$: learning rate\n",
    "- number of epochs\n",
    "- batch size\n",
    "- kernel type & parameters"
   ]
  },
  {
   "cell_type": "markdown",
   "metadata": {},
   "source": [
    "#### Runtime Complexity\n",
    "For linear SVM,\n",
    "- **Training**: $O(n\\cdot d)$ per epoch\n",
    "    - update parameters for each data during optimization\n",
    "* **Inference**: $O(d)$\n",
    "    - get sign of signed distance from hyperplane to the data point\n",
    "\n",
    "where\n",
    "- $n$: number of training data\n",
    "- $d$: number of features"
   ]
  },
  {
   "cell_type": "markdown",
   "metadata": {},
   "source": [
    "#### Pros & Cons\n",
    "Linear SVM:\n",
    "- **Pros**:\n",
    "    - fast training\n",
    "    - scales well to large datasets\n",
    "    - simple mathematics\n",
    "    - efficient inference\n",
    "* **Cons**: \n",
    "    - works well only if data is linearly separable\n",
    "\n",
    "\n",
    "Polynomial Kernel SVM:\n",
    "- **Pros**:\n",
    "    - captures non linear relationship\n",
    "    - fast on small datasets\n",
    "- **Cons**:\n",
    "    - more parameters\n",
    "    - computationally heavier than linear SVMs\n",
    "    - might overfit"
   ]
  },
  {
   "cell_type": "markdown",
   "metadata": {},
   "source": [
    "---"
   ]
  },
  {
   "cell_type": "markdown",
   "metadata": {},
   "source": [
    "## Mathematics"
   ]
  },
  {
   "cell_type": "markdown",
   "metadata": {},
   "source": [
    "### Linear SVM"
   ]
  },
  {
   "cell_type": "markdown",
   "metadata": {},
   "source": [
    "#### Decision Boundary\n",
    "$$f(\\vec{x})=\\vec{w}\\cdot\\vec{x}+b$$\n",
    "\n",
    "where\n",
    "- $\\vec{w}$: weight vector\n",
    "- $\\vec{x}$: data point\n",
    "- $b$: bias term\n",
    "\n",
    "#### Signed Distance\n",
    "$$d(x)=\\frac{\\vec{w}\\cdot\\vec{x}+b}{\\|\\vec{w}\\|}$$\n",
    "represents which side and how far $\\vec{x}$ is from the hyperplane $f$"
   ]
  },
  {
   "cell_type": "markdown",
   "metadata": {},
   "source": [
    "#### Loss Function\n",
    "- What loss function does it minimize?"
   ]
  },
  {
   "cell_type": "markdown",
   "metadata": {},
   "source": [
    "#### Gradients\n",
    "- Gradient formulas for optimization."
   ]
  },
  {
   "cell_type": "markdown",
   "metadata": {},
   "source": [
    "#### Updates\n",
    "- How are paramteres updated?"
   ]
  },
  {
   "cell_type": "markdown",
   "metadata": {},
   "source": [
    "---"
   ]
  },
  {
   "cell_type": "markdown",
   "metadata": {},
   "source": [
    "## Comments"
   ]
  },
  {
   "cell_type": "markdown",
   "metadata": {},
   "source": [
    "Only linear and polynomial kernel SVMs will be implemented."
   ]
  }
 ],
 "metadata": {
  "language_info": {
   "name": "python"
  }
 },
 "nbformat": 4,
 "nbformat_minor": 2
}

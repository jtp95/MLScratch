{
 "cells": [
  {
   "cell_type": "markdown",
   "metadata": {},
   "source": [
    "# K-Nearest Neighbors"
   ]
  },
  {
   "cell_type": "markdown",
   "metadata": {},
   "source": [
    "---"
   ]
  },
  {
   "cell_type": "markdown",
   "metadata": {},
   "source": [
    "## References"
   ]
  },
  {
   "cell_type": "markdown",
   "metadata": {},
   "source": [
    "[Geeks for Geeks - K-Nearest Neighbor(KNN) Algorithm](https://www.geeksforgeeks.org/k-nearest-neighbours/)\n",
    "\n",
    "[Scikit Learn - KNeighborsClassifier](https://scikit-learn.org/stable/modules/generated/sklearn.neighbors.KNeighborsClassifier.html)\n",
    "\n",
    "[Scikit Learn - KNeighborsRegressor](https://scikit-learn.org/stable/modules/generated/sklearn.neighbors.KNeighborsRegressor.html)\n",
    "\n",
    "[IBM - What is the k-nearest neighbors (KNN) algorithm?](https://www.ibm.com/think/topics/knn#:~:text=The%20k%2Dnearest%20neighbors%20(KNN)%20algorithm%20is%20a%20non,used%20in%20machine%20learning%20today.)"
   ]
  },
  {
   "cell_type": "markdown",
   "metadata": {},
   "source": [
    "---"
   ]
  },
  {
   "cell_type": "markdown",
   "metadata": {},
   "source": [
    "## Notes\n"
   ]
  },
  {
   "cell_type": "markdown",
   "metadata": {},
   "source": [
    "#### Characteristics\n",
    "- Supervised learning\n",
    "- Regression & Classification\n",
    "- Non parametric\n",
    "- Lazy learning, does not learn from training data but memorizes them\n",
    "- Requires distance metric"
   ]
  },
  {
   "cell_type": "markdown",
   "metadata": {},
   "source": [
    "#### Input & Output\n",
    "- **Input**: Feature matrix $X$ of shape $(n_{\\text{samples}}, n_{\\text{features}})$\n",
    "* **Output**: \n",
    "    - Classification: Predicted class label $\\hat{y}$\n",
    "    - Regression: Predicted numerical value $\\hat{y}$"
   ]
  },
  {
   "cell_type": "markdown",
   "metadata": {},
   "source": [
    "#### Parameters\n",
    "- **Hyperparameters**:\n",
    "    - $k$ (number of neighbors to consider)\n",
    "    - Distance Metric\n",
    "    - $p$ (for Minkowski distance; $1$: Manhattan, $2$: Euclidean, ...)\n",
    "    - Weighting scheme"
   ]
  },
  {
   "cell_type": "markdown",
   "metadata": {},
   "source": [
    "#### Runtime Complexity\n",
    "- **Training**: $O(1)$\n",
    "- **Inference**: $O(n\\cdot d)$\n",
    "\n",
    "* where:\n",
    "    - $n$: number of training samples\n",
    "    - $d$: number of features"
   ]
  },
  {
   "cell_type": "markdown",
   "metadata": {},
   "source": [
    "#### Pros & Cons\n",
    "- **Advantages**: \n",
    "    - Simple and intuitive to understand and implement.\n",
    "    - Works well for small datasets with clear class separation.\n",
    "    - Inexpensive training.\n",
    "\n",
    "* **Disadvantages**: \n",
    "    - Computationally expensive at inference time (especially for large datasets).\n",
    "    - Memory intensive since it stores all training data.\n",
    "    - Sensitive to irrelevant features and noise.\n",
    "    - Performance degrades in high dimensional spaces."
   ]
  },
  {
   "cell_type": "markdown",
   "metadata": {},
   "source": [
    "---"
   ]
  },
  {
   "cell_type": "markdown",
   "metadata": {},
   "source": [
    "## Mathematics"
   ]
  },
  {
   "cell_type": "markdown",
   "metadata": {},
   "source": [
    "#### Model Equations\n",
    "\n",
    "**Euclidean Distance**:\n",
    "$$d(x,y)=\\sqrt{\\sum_{i=1}^{d}(x_i-y_i)^2}$$\n",
    "\n",
    "**Manhattan Distance**:\n",
    "$$d(x,y)=\\sum_{i=1}^{d}|x_i-y_i|$$\n",
    "\n",
    "**Minkowski Distance**:\n",
    "$$d(x,y)=\\left(\\sum_{i=1}^{d}(x_i-y_i)^p\\right)^{\\frac{1}{p}}$$"
   ]
  },
  {
   "cell_type": "markdown",
   "metadata": {},
   "source": [
    "\n",
    "#### Loss Function\n",
    "no loss function"
   ]
  },
  {
   "cell_type": "markdown",
   "metadata": {},
   "source": [
    "\n",
    "#### Gradients\n",
    "gradients are not used"
   ]
  },
  {
   "cell_type": "markdown",
   "metadata": {},
   "source": [
    "\n",
    "#### Updates\n",
    "no update (non-parametric)"
   ]
  },
  {
   "cell_type": "markdown",
   "metadata": {},
   "source": [
    "---"
   ]
  },
  {
   "cell_type": "markdown",
   "metadata": {},
   "source": [
    "\n",
    "## Comments"
   ]
  },
  {
   "cell_type": "markdown",
   "metadata": {},
   "source": [
    "Only uniform weighted KNN was implemented.\n",
    "\n",
    "Brute force search is used for finding neighbors; it can be improved using KD-Trees or Ball Trees"
   ]
  }
 ],
 "metadata": {
  "language_info": {
   "name": "python"
  }
 },
 "nbformat": 4,
 "nbformat_minor": 2
}

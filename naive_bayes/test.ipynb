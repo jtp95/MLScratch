{
 "cells": [
  {
   "cell_type": "code",
   "execution_count": 1,
   "metadata": {},
   "outputs": [],
   "source": [
    "import numpy as np\n",
    "import matplotlib.pyplot as plt\n",
    "from sklearn.datasets import fetch_20newsgroups, load_iris\n",
    "from sklearn.feature_extraction.text import CountVectorizer\n",
    "from sklearn.model_selection import train_test_split\n",
    "from sklearn.naive_bayes import MultinomialNB as SKLMultinomialNB\n",
    "from sklearn.naive_bayes import GaussianNB as SKLGaussianNB\n",
    "from sklearn.metrics import accuracy_score"
   ]
  },
  {
   "cell_type": "markdown",
   "metadata": {},
   "source": [
    "# 20 News Groups Dataset (Multinomial)"
   ]
  },
  {
   "cell_type": "code",
   "execution_count": 2,
   "metadata": {},
   "outputs": [
    {
     "name": "stdout",
     "output_type": "stream",
     "text": [
      "MultinomialNB Accuracy: 0.8983\n"
     ]
    }
   ],
   "source": [
    "from naive_bayes import MultinomialNB \n",
    "\n",
    "# Load data\n",
    "categories = ['sci.space', 'comp.graphics']\n",
    "newsgroups = fetch_20newsgroups(subset='train', categories=categories, remove=('headers', 'footers', 'quotes'))\n",
    "\n",
    "# Convert text to bag of words representation\n",
    "vectorizer = CountVectorizer(stop_words='english', max_features=1000)\n",
    "X = vectorizer.fit_transform(newsgroups.data).toarray()\n",
    "y = newsgroups.target\n",
    "\n",
    "# split data\n",
    "X_train, X_test, y_train, y_test = train_test_split(X, y, test_size=0.2, random_state=42)\n",
    "\n",
    "# train and test\n",
    "mnb = MultinomialNB()\n",
    "mnb.fit(X_train, y_train)\n",
    "y_pred = mnb.predict(X_test)\n",
    "acc = mnb.score(X_test, y_test)\n",
    "\n",
    "print(f\"MultinomialNB Accuracy: {acc:.4f}\")"
   ]
  },
  {
   "cell_type": "code",
   "execution_count": 3,
   "metadata": {},
   "outputs": [
    {
     "name": "stdout",
     "output_type": "stream",
     "text": [
      "\n",
      "MultinomialNB Sample Predictions:\n",
      "\n",
      "Sample 1:\n",
      "Original Text: I read it refered to as the \"parabolic cross-section\" rule;\n",
      "the idea was that if you plot the area of the fuselage cross-\n",
      "section as a function of the point fore-and-aft along the \n",
      "fuselage, a plot that is a **paraboloid** minimizes somethin' \n",
      "or 'nother (to be technical about it).\n",
      "\n",
      "...\n",
      "Predicted Label: 1 (sci.space)\n",
      "Actual Label: 1 (sci.space)\n",
      "\n",
      "Sample 2:\n",
      "Original Text: [Lots of stuff about how the commerical moonbase=fantasyland]\n",
      "\n",
      "Then what do you believe will finally motivate people to leave the  \n",
      "earth?  I'm not trying to flame you.  I just want to know where you  \n",
      "stand.\n",
      "\n",
      "-Chuck\n",
      "---\n",
      "*******************************************************************\n",
      "\n",
      "\tChuck Chu...\n",
      "Predicted Label: 1 (sci.space)\n",
      "Actual Label: 1 (sci.space)\n",
      "\n",
      "Sample 3:\n",
      "Original Text: I am currently using POVRay on Mac and was wondering if anyone in netland\n",
      "knows of public domain anti-aliasing utilities so that I can skip this step\n",
      "in POV, very slow on this machine.  Any suggestions, opinions about\n",
      "post-trace anti-aliasing would be greatly appreciated....\n",
      "Predicted Label: 1 (sci.space)\n",
      "Actual Label: 0 (comp.graphics)\n",
      "\n",
      "Sample 4:\n",
      "Original Text: \n",
      "\n",
      "\n",
      "\n",
      "\n",
      "\n",
      "It still applies, except the astronomy these days is Very Long Baseline\n",
      "Radio Astronomy coupled to GPS and Satellite Laser Ranging. The data\n",
      "from NASA's and the Naval Observatory's (among others) is a vital \n",
      "source of data for studies into crustal dynamics, Earth rotation, and\n",
      "purturbations. E...\n",
      "Predicted Label: 1 (sci.space)\n",
      "Actual Label: 1 (sci.space)\n",
      "\n",
      "Sample 5:\n",
      "Original Text: \n",
      "I usually use \"Algorithms for graphics and image processing\" by\n",
      "Theodosios Pavlidis, but other people here got them same idea and now\n",
      "3 of 4 copies in the libraries have been stolen!\n",
      "\n",
      "Another reference is \"Digital Image Processing\" by Gonzalez and\n",
      "Wintz/Wood, which is widely available but a little ...\n",
      "Predicted Label: 1 (sci.space)\n",
      "Actual Label: 0 (comp.graphics)\n"
     ]
    }
   ],
   "source": [
    "# Sample prediction\n",
    "samples = np.random.choice(len(newsgroups), 5, replace=False)\n",
    "X_s = [newsgroups.data[i] for i in samples]\n",
    "y_s = newsgroups.target[samples]\n",
    "X_s_vec = vectorizer.fit_transform(X_s).toarray()\n",
    "\n",
    "# === Predict Using Custom MultinomialNB ===\n",
    "y_s_pred = mnb.predict(X_s_vec)\n",
    "\n",
    "# === Print Results ===\n",
    "print(\"\\nMultinomialNB Sample Predictions:\")\n",
    "for i in range(len(X_s)):\n",
    "    print(f\"\\nSample {i+1}:\")\n",
    "    print(f\"Original Text: {X_s[i][:300]}...\")\n",
    "    print(f\"Predicted Label: {y_s_pred[i]} ({'sci.space' if y_s_pred[i] == 1 else 'comp.graphics'})\")\n",
    "    print(f\"Actual Label: {y_s[i]} ({'sci.space' if y_s[i] == 1 else 'comp.graphics'})\")"
   ]
  },
  {
   "cell_type": "markdown",
   "metadata": {},
   "source": [
    "# Comparison"
   ]
  },
  {
   "cell_type": "code",
   "execution_count": 4,
   "metadata": {},
   "outputs": [
    {
     "name": "stdout",
     "output_type": "stream",
     "text": [
      "Custom MultinomialNB Accuracy: 0.8983\n",
      "Sklearn MultinomialNB Accuracy: 0.8983\n"
     ]
    },
    {
     "data": {
      "image/png": "[encoded data removed]",
      "text/plain": [
       "<Figure size 640x480 with 1 Axes>"
      ]
     },
     "metadata": {},
     "output_type": "display_data"
    }
   ],
   "source": [
    "skl_mnb = SKLMultinomialNB()\n",
    "skl_mnb.fit(X_train, y_train)\n",
    "skl_y_pred = skl_mnb.predict(X_test)\n",
    "skl_acc = accuracy_score(y_test, skl_y_pred)\n",
    "\n",
    "# compare accuracy\n",
    "print(f\"Custom MultinomialNB Accuracy: {acc:.4f}\")\n",
    "print(f\"Sklearn MultinomialNB Accuracy: {skl_acc:.4f}\")\n",
    "\n",
    "# visualization\n",
    "plt.bar(['Custom NB', 'Sklearn NB'], [acc, skl_acc], color=['blue', 'green'])\n",
    "plt.ylabel('Accuracy')\n",
    "plt.title('Naive Bayes Model Comparison')\n",
    "plt.ylim(0, 1)\n",
    "plt.show()"
   ]
  },
  {
   "cell_type": "markdown",
   "metadata": {},
   "source": [
    "# Iris Dataset (Gaussian)"
   ]
  },
  {
   "cell_type": "code",
   "execution_count": 5,
   "metadata": {},
   "outputs": [
    {
     "name": "stdout",
     "output_type": "stream",
     "text": [
      "GaussianNB Accuracy: 1.0000\n",
      "GaussianNB Sample Predictions:\n",
      "Sample 1: Features=[5.8 2.7 3.9 1.2], Predicted=1, Actual=1\n",
      "Sample 2: Features=[6.3 3.3 4.7 1.6], Predicted=1, Actual=1\n",
      "Sample 3: Features=[7.9 3.8 6.4 2. ], Predicted=2, Actual=2\n",
      "Sample 4: Features=[5.7 3.8 1.7 0.3], Predicted=0, Actual=0\n",
      "Sample 5: Features=[6.1 3.  4.9 1.8], Predicted=2, Actual=2\n"
     ]
    }
   ],
   "source": [
    "from naive_bayes import GaussianNB\n",
    "\n",
    "# Load dataset\n",
    "iris = load_iris()\n",
    "X = iris.data\n",
    "y = iris.target\n",
    "\n",
    "# Split dataset\n",
    "X_train, X_test, y_train, y_test = train_test_split(X, y, test_size=0.2, random_state=42)\n",
    "\n",
    "# train and test\n",
    "gnb = GaussianNB()\n",
    "gnb.fit(X_train, y_train)\n",
    "y_pred = gnb.predict(X_test)\n",
    "acc = accuracy_score(y_test, y_pred)\n",
    "\n",
    "print(f\"GaussianNB Accuracy: {acc:.4f}\")\n",
    "\n",
    "# Sample predictions\n",
    "samples = np.random.choice(len(X_test), 5, replace=False)\n",
    "X_s = X_test[samples]\n",
    "y_s = y_test[samples]\n",
    "\n",
    "y_s_pred = gnb.predict(X_s)\n",
    "\n",
    "print(\"GaussianNB Sample Predictions:\")\n",
    "for i in range(len(X_s)):\n",
    "    print(f\"Sample {i+1}: Features={X_s[i]}, Predicted={y_s_pred[i]}, Actual={y_s[i]}\")"
   ]
  },
  {
   "cell_type": "markdown",
   "metadata": {},
   "source": [
    "# Comparison"
   ]
  },
  {
   "cell_type": "code",
   "execution_count": 6,
   "metadata": {},
   "outputs": [
    {
     "name": "stdout",
     "output_type": "stream",
     "text": [
      "Custom GaussianNB Accuracy: 1.0000\n",
      "Sklearn GaussianNB Accuracy: 1.0000\n"
     ]
    },
    {
     "data": {
      "image/png": "[encoded data removed]",
      "text/plain": [
       "<Figure size 640x480 with 1 Axes>"
      ]
     },
     "metadata": {},
     "output_type": "display_data"
    }
   ],
   "source": [
    "skl_gnb = SKLGaussianNB()\n",
    "skl_gnb.fit(X_train, y_train)\n",
    "skl_y_pred = skl_gnb.predict(X_test)\n",
    "skl_acc = accuracy_score(y_test, skl_y_pred)\n",
    "\n",
    "# compare accuracy\n",
    "print(f\"Custom GaussianNB Accuracy: {acc:.4f}\")\n",
    "print(f\"Sklearn GaussianNB Accuracy: {skl_acc:.4f}\")\n",
    "\n",
    "# visualization\n",
    "plt.bar(['Custom GNB', 'Sklearn GNB'], [acc, skl_acc], color=['blue', 'green'])\n",
    "plt.ylabel('Accuracy')\n",
    "plt.title('Gaussian Naive Bayes Model Comparison')\n",
    "plt.ylim(0, 1)\n",
    "plt.show()"
   ]
  }
 ],
 "metadata": {
  "kernelspec": {
   "display_name": "ml-env",
   "language": "python",
   "name": "python3"
  },
  "language_info": {
   "codemirror_mode": {
    "name": "ipython",
    "version": 3
   },
   "file_extension": ".py",
   "mimetype": "text/x-python",
   "name": "python",
   "nbconvert_exporter": "python",
   "pygments_lexer": "ipython3",
   "version": "3.11.11"
  }
 },
 "nbformat": 4,
 "nbformat_minor": 2
}
